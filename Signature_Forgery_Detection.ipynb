{
  "nbformat": 4,
  "nbformat_minor": 0,
  "metadata": {
    "colab": {
      "provenance": [],
      "include_colab_link": true
    },
    "kernelspec": {
      "name": "python3",
      "display_name": "Python 3"
    },
    "language_info": {
      "name": "python"
    }
  },
  "cells": [
    {
      "cell_type": "markdown",
      "metadata": {
        "id": "view-in-github",
        "colab_type": "text"
      },
      "source": [
        "<a href=\"https://colab.research.google.com/github/ALANT535/ALANT535/blob/main/Signature_Forgery_Detection.ipynb\" target=\"_parent\"><img src=\"https://colab.research.google.com/assets/colab-badge.svg\" alt=\"Open In Colab\"/></a>"
      ]
    },
    {
      "cell_type": "markdown",
      "source": [
        "#Mounting Google Drive"
      ],
      "metadata": {
        "id": "-CPL4J9nX84X"
      }
    },
    {
      "cell_type": "code",
      "source": [
        "from google.colab import drive\n",
        "\n",
        "drive.mount('/content/gdrive')"
      ],
      "metadata": {
        "colab": {
          "base_uri": "https://localhost:8080/"
        },
        "id": "YM0o_n_-YCSm",
        "outputId": "fde20820-1d18-4295-98ed-8f49122358e3"
      },
      "execution_count": null,
      "outputs": [
        {
          "output_type": "stream",
          "name": "stdout",
          "text": [
            "Mounted at /content/gdrive\n"
          ]
        }
      ]
    },
    {
      "cell_type": "markdown",
      "source": [
        "#Importing various libraries\n"
      ],
      "metadata": {
        "id": "z5KGC95QQmr_"
      }
    },
    {
      "cell_type": "code",
      "source": [
        "import cv2\n",
        "import numpy as np\n",
        "import os\n",
        "from google.colab.patches import cv2_imshow\n"
      ],
      "metadata": {
        "id": "27RO_8d5c2o3"
      },
      "execution_count": null,
      "outputs": []
    },
    {
      "cell_type": "markdown",
      "source": [
        "#Reading data\n"
      ],
      "metadata": {
        "id": "kSZyo9X7busJ"
      }
    },
    {
      "cell_type": "code",
      "source": [
        "\n",
        "directory1=\"/content/gdrive/MyDrive/Signature_forgery/Dataset/full_forg\"\n",
        "\n",
        "print(os.listdir(directory1))\n",
        "\n"
      ],
      "metadata": {
        "id": "TPhFxnCLYEOl"
      },
      "execution_count": null,
      "outputs": []
    },
    {
      "cell_type": "code",
      "source": [
        "#os.path.join works with normal strings\n",
        "\n",
        "img_arr=cv2.imread(os.path.join(directory1,'forgeries_2_1.png'),0)\n",
        "#0 is for grayscale\n",
        "\n",
        "# cv2.imshow(img_arr)           this function doesn't work in google collabs\n",
        "print(img_arr)                  #instead use cv2_imshow()\n",
        "print(np.shape(img_arr))\n",
        "\n",
        "cv2_imshow(img_arr)"
      ],
      "metadata": {
        "id": "X3nVHiIkbbmW"
      },
      "execution_count": null,
      "outputs": []
    },
    {
      "cell_type": "code",
      "source": [
        "#deciding a size for standard image\n",
        "\n",
        "directory=\"/content/gdrive/MyDrive/Signature_forgery/Dataset/full_forg\"\n",
        "\n",
        "for img in os.listdir(directory):\n",
        "  img_arr = cv2.imread(os.path.join(directory,img))\n",
        "  print(np.shape(img_arr))"
      ],
      "metadata": {
        "id": "yIc5LhwVQUpO"
      },
      "execution_count": null,
      "outputs": []
    },
    {
      "cell_type": "markdown",
      "source": [
        "Creating the training data"
      ],
      "metadata": {
        "id": "QIQXKObWMPdQ"
      }
    },
    {
      "cell_type": "code",
      "source": [
        "directory=\"/content/gdrive/MyDrive/Signature_forgery/Dataset\"\n",
        "training_data=[]\n",
        "img_len = 575\n",
        "img_breadth = 250\n",
        "\n",
        "\n",
        "def create_training_data():\n",
        "  categories=[\"full_forg\",\"full_org\"]\n",
        "  for category in categories:\n",
        "    path=os.path.join(directory,category)           #/content/drive/MyDrive/Signature_forgery/Dataset/full_forg\n",
        "\n",
        "    for img in os.listdir(path):\n",
        "\n",
        "      img_array=cv2.imread(os.path.join(path,img),0)      #/content/drive/MyDrive/Signature_forgery/full_forg/Dataset/forgeries_2_11.png\n",
        "      new_array=cv2.resize(img_array, ( img_len ,img_breadth ))\n",
        "      label=categories.index(category)                   #0`\n",
        "\n",
        "      training_data.append([new_array,label])\n"
      ],
      "metadata": {
        "id": "HwvwA04wecx6"
      },
      "execution_count": null,
      "outputs": []
    },
    {
      "cell_type": "code",
      "source": [
        "create_training_data()"
      ],
      "metadata": {
        "id": "U14PdWPziwIf"
      },
      "execution_count": null,
      "outputs": []
    },
    {
      "cell_type": "markdown",
      "source": [
        "Checking sizes of all images"
      ],
      "metadata": {
        "id": "2UDRN1b2lIFj"
      }
    },
    {
      "cell_type": "code",
      "source": [
        "len(training_data)"
      ],
      "metadata": {
        "id": "sIFzjmk4izOZ",
        "colab": {
          "base_uri": "https://localhost:8080/"
        },
        "outputId": "b0c6ee37-2e9d-49b0-d5e3-ce484cd67d70"
      },
      "execution_count": null,
      "outputs": [
        {
          "output_type": "execute_result",
          "data": {
            "text/plain": [
              "48"
            ]
          },
          "metadata": {},
          "execution_count": 6
        }
      ]
    },
    {
      "cell_type": "code",
      "source": [
        "\n",
        "for i in training_data:\n",
        "  print(np.shape(i[0]))"
      ],
      "metadata": {
        "id": "zVniDMZ2i2vV"
      },
      "execution_count": null,
      "outputs": []
    },
    {
      "cell_type": "code",
      "source": [
        "cv2_imshow(training_data[0][0])"
      ],
      "metadata": {
        "id": "EpFMzD7AIjyd"
      },
      "execution_count": null,
      "outputs": []
    },
    {
      "cell_type": "markdown",
      "source": [
        "Printing some images"
      ],
      "metadata": {
        "id": "als67AeHlM5D"
      }
    },
    {
      "cell_type": "code",
      "source": [
        "for i in training_data[:3]:\n",
        "  cv2_imshow(i[0])"
      ],
      "metadata": {
        "id": "eOV7VX9ujplh"
      },
      "execution_count": null,
      "outputs": []
    },
    {
      "cell_type": "markdown",
      "source": [
        "Shuffling the training data"
      ],
      "metadata": {
        "id": "ZgLckFkLzVY2"
      }
    },
    {
      "cell_type": "code",
      "source": [
        "import random\n",
        "random.shuffle(training_data)"
      ],
      "metadata": {
        "id": "qmAsQ5SBy-pi"
      },
      "execution_count": null,
      "outputs": []
    },
    {
      "cell_type": "markdown",
      "source": [
        "Checking if shuffled or not"
      ],
      "metadata": {
        "id": "SpiNbSdYzUlf"
      }
    },
    {
      "cell_type": "code",
      "source": [
        "for i in training_data[:10]:\n",
        "  print(i[1])\n"
      ],
      "metadata": {
        "id": "Kt2KYyBjzMu9",
        "colab": {
          "base_uri": "https://localhost:8080/"
        },
        "outputId": "636a5b73-db3f-4a44-80b3-977496aa96ff"
      },
      "execution_count": null,
      "outputs": [
        {
          "output_type": "stream",
          "name": "stdout",
          "text": [
            "1\n",
            "0\n",
            "0\n",
            "0\n",
            "1\n",
            "1\n",
            "1\n",
            "0\n",
            "0\n",
            "1\n"
          ]
        }
      ]
    },
    {
      "cell_type": "markdown",
      "source": [
        "Store the data using pickle and uploading it to google drive"
      ],
      "metadata": {
        "id": "mcBf05PIE6DH"
      }
    },
    {
      "cell_type": "code",
      "source": [
        "X=[]\n",
        "y=[]\n",
        "\n",
        "for features,label in training_data:\n",
        "  X.append(features)\n",
        "  y.append(label)\n",
        "\n",
        "print(type(X))"
      ],
      "metadata": {
        "colab": {
          "base_uri": "https://localhost:8080/"
        },
        "id": "UWd62rEozSVd",
        "outputId": "5dd27370-eb66-4a01-9bc4-631d4fd35cf0"
      },
      "execution_count": null,
      "outputs": [
        {
          "output_type": "stream",
          "name": "stdout",
          "text": [
            "<class 'list'>\n"
          ]
        }
      ]
    },
    {
      "cell_type": "code",
      "source": [
        "# cv2_imshow(X[0])      #checking difference between reshaping the\n",
        "print(np.shape(X))"
      ],
      "metadata": {
        "id": "YePYNWolG_0T"
      },
      "execution_count": null,
      "outputs": []
    },
    {
      "cell_type": "code",
      "source": [
        "X= np.array(X).reshape(-1,img_breadth,img_len,1)  #important to run this becae we can only feed a numpy array into a neural network it seems so\n",
        "# cv2_imshow(X[0])      #checking difference between reshaping the\n",
        "# print(np.shape(X))\n",
        "# print(X)"
      ],
      "metadata": {
        "id": "Yhr8ynZxLNVY"
      },
      "execution_count": null,
      "outputs": []
    },
    {
      "cell_type": "markdown",
      "source": [
        "Dumping the training data"
      ],
      "metadata": {
        "id": "9hlhoDNN8sq8"
      }
    },
    {
      "cell_type": "code",
      "source": [
        "import pickle\n",
        "\n",
        "Pickle_file_directory = '/content/gdrive/MyDrive/Signature_forgery/Pickle_files'\n",
        "\n",
        "pickle_out=open(os.path.join(path,'X.pickle'),'wb')    #or alternatively we can also use path+'/'+'X.pickle'\n",
        "pickle.dump(X,pickle_out)\n",
        "pickle_out.close()\n",
        "\n",
        "pickle_out=open(os.path.join(path,'y.pickle'),'wb')\n",
        "pickle.dump(y,pickle_out)\n",
        "pickle_out.close()\n",
        "\n",
        "\n"
      ],
      "metadata": {
        "id": "R9A_sRfz8sZV"
      },
      "execution_count": null,
      "outputs": []
    },
    {
      "cell_type": "markdown",
      "source": [
        "Loading the training data"
      ],
      "metadata": {
        "id": "V61QbCTY8ukb"
      }
    },
    {
      "cell_type": "code",
      "source": [
        "import pickle\n",
        "\n",
        "Pickle_file_directory = '/content/gdrive/MyDrive/Signature_forgery/Pickle_files'\n",
        "\n",
        "pickle_in=open(os.path.join(Pickle_file_directory,'X.pickle'),'rb')    #or alternatively we can also use path+'/'+'X.pickle'\n",
        "X=pickle.load(pickle_in)\n",
        "pickle_in.close()\n",
        "\n",
        "pickle_in=open(os.path.join(Pickle_file_directory,'y.pickle'),'rb')\n",
        "y=pickle.load(pickle_in)\n",
        "pickle_in.close()\n",
        "\n",
        "\n"
      ],
      "metadata": {
        "id": "tSMfhS6nFPwe"
      },
      "execution_count": null,
      "outputs": []
    },
    {
      "cell_type": "code",
      "source": [
        "y=np.array(y)"
      ],
      "metadata": {
        "id": "m-CNqvc4d2qe"
      },
      "execution_count": null,
      "outputs": []
    },
    {
      "cell_type": "code",
      "source": [
        "np.shape(X)"
      ],
      "metadata": {
        "colab": {
          "base_uri": "https://localhost:8080/"
        },
        "id": "wrkcEk2yFQ5S",
        "outputId": "41c25fa5-d137-4708-bbe0-a3b2cfb591a1"
      },
      "execution_count": null,
      "outputs": [
        {
          "output_type": "execute_result",
          "data": {
            "text/plain": [
              "(48, 250, 575, 1)"
            ]
          },
          "metadata": {},
          "execution_count": 13
        }
      ]
    },
    {
      "cell_type": "code",
      "source": [
        "np.shape(y)"
      ],
      "metadata": {
        "colab": {
          "base_uri": "https://localhost:8080/"
        },
        "id": "SHPBMr7MGOMt",
        "outputId": "c17fcd22-1fcc-41fa-ae42-fc58b481c24d"
      },
      "execution_count": null,
      "outputs": [
        {
          "output_type": "execute_result",
          "data": {
            "text/plain": [
              "(48,)"
            ]
          },
          "metadata": {},
          "execution_count": 14
        }
      ]
    },
    {
      "cell_type": "code",
      "source": [
        "y[:10]"
      ],
      "metadata": {
        "id": "e7lj8Y-nH-4T"
      },
      "execution_count": null,
      "outputs": []
    },
    {
      "cell_type": "markdown",
      "source": [
        "So now the data has been loaded and saved into the google drive successfully\n"
      ],
      "metadata": {
        "id": "X1UbzjRpIbe3"
      }
    },
    {
      "cell_type": "markdown",
      "source": [
        "#Making the mdoel"
      ],
      "metadata": {
        "id": "ye9-QYtGLKXF"
      }
    },
    {
      "cell_type": "code",
      "source": [
        "import tensorflow as tf\n",
        "import keras.api._v2.keras as keras\n",
        "from keras.models import Sequential\n",
        "from keras.layers import  Dropout,Activation,Dense,Flatten,MaxPooling2D,Conv2D\n",
        "\n",
        "              #used to have to do this because the previous import statement didnt work previously\n",
        "# from keras import layers,models"
      ],
      "metadata": {
        "id": "-iFRFakKLNYu"
      },
      "execution_count": null,
      "outputs": []
    },
    {
      "cell_type": "code",
      "source": [
        "X_normalised = X/255.0      #normalise X data to lie in between 0 and 1"
      ],
      "metadata": {
        "id": "e3dwiTDr-Oyn"
      },
      "execution_count": null,
      "outputs": []
    },
    {
      "cell_type": "code",
      "source": [
        "np.shape(X_normalised)"
      ],
      "metadata": {
        "id": "XjEpN5cNISG5",
        "colab": {
          "base_uri": "https://localhost:8080/"
        },
        "outputId": "fdc7181e-3842-4070-f5d0-fdce4bc2be02"
      },
      "execution_count": null,
      "outputs": [
        {
          "output_type": "execute_result",
          "data": {
            "text/plain": [
              "(48, 250, 575, 1)"
            ]
          },
          "metadata": {},
          "execution_count": 18
        }
      ]
    },
    {
      "cell_type": "code",
      "source": [
        "model=Sequential()\n",
        "model.add(Conv2D(64, (3,3),input_shape = X_normalised.shape[1:] ))\n",
        "model.add(Activation(\"relu\"))         #activation layer doesnt have to be seperate\n",
        "model.add(MaxPooling2D(pool_size=(2,2)))\n",
        "\n",
        "model.add(Conv2D(64,(3,3)))\n",
        "model.add(Activation(\"relu\"))\n",
        "model.add(MaxPooling2D(pool_size=(2,2)))\n",
        "\n",
        "model.add(Flatten())     #need to flatten because Dense layer uses 1D layer while Conv2D and MaxPooling2D create 2D arrays\n",
        "model.add(Dense(64))\n",
        "\n",
        "model.add(Dense(1))\n",
        "model.add(Activation('sigmoid'))      #the activations options include relu, softmax, Tanh, Swish\n"
      ],
      "metadata": {
        "id": "f48jOB6yM4UR"
      },
      "execution_count": null,
      "outputs": []
    },
    {
      "cell_type": "code",
      "source": [
        "model.summary()"
      ],
      "metadata": {
        "id": "NM0kdREhZEIQ"
      },
      "execution_count": null,
      "outputs": []
    },
    {
      "cell_type": "code",
      "source": [
        "model.compile(loss='binary_crossentropy',optimizer='adam',metrics=['accuracy'])   #binary_cross_entropy because there are only two classes"
      ],
      "metadata": {
        "id": "nwoocBXacQRj"
      },
      "execution_count": null,
      "outputs": []
    },
    {
      "cell_type": "code",
      "source": [
        "print(np.shape(X_normalised[0]))"
      ],
      "metadata": {
        "id": "ltoSbQzxoRTw"
      },
      "execution_count": null,
      "outputs": []
    },
    {
      "cell_type": "code",
      "source": [
        "print(X_normalised[0])"
      ],
      "metadata": {
        "id": "9ld6qgXdcg-l"
      },
      "execution_count": null,
      "outputs": []
    },
    {
      "cell_type": "code",
      "source": [
        "model.fit(X_normalised, y, epochs=25, validation_split=0.2)"
      ],
      "metadata": {
        "id": "FhGhUQRkclQl"
      },
      "execution_count": null,
      "outputs": []
    },
    {
      "cell_type": "code",
      "source": [
        "a=model.predict(X_normalised)"
      ],
      "metadata": {
        "id": "94xDmzmJ9h68",
        "colab": {
          "base_uri": "https://localhost:8080/"
        },
        "outputId": "efe1b7a9-fb40-4fbf-a851-952b40c35fe1"
      },
      "execution_count": null,
      "outputs": [
        {
          "output_type": "stream",
          "name": "stdout",
          "text": [
            "2/2 [==============================] - 6s 1s/step\n"
          ]
        }
      ]
    },
    {
      "cell_type": "code",
      "source": [
        "a"
      ],
      "metadata": {
        "id": "tWmTT3O2_7I1"
      },
      "execution_count": null,
      "outputs": []
    },
    {
      "cell_type": "code",
      "source": [
        "len(y)"
      ],
      "metadata": {
        "id": "53ZtMKn2CV99"
      },
      "execution_count": null,
      "outputs": []
    },
    {
      "cell_type": "code",
      "source": [
        "y"
      ],
      "metadata": {
        "id": "l7PQE8_K_-4u"
      },
      "execution_count": null,
      "outputs": []
    },
    {
      "cell_type": "code",
      "source": [
        "y[38:]      #actual y values"
      ],
      "metadata": {
        "id": "F3psY-HmADhB",
        "colab": {
          "base_uri": "https://localhost:8080/"
        },
        "outputId": "1cb9982b-cab0-4a0e-8e94-80b088ec1924"
      },
      "execution_count": null,
      "outputs": [
        {
          "output_type": "execute_result",
          "data": {
            "text/plain": [
              "array([0, 0, 1, 1, 1, 0, 1, 0, 0, 0])"
            ]
          },
          "metadata": {},
          "execution_count": 28
        }
      ]
    },
    {
      "cell_type": "code",
      "source": [
        "a[38:]      #predicted y values"
      ],
      "metadata": {
        "id": "Z4sQN4ORCL1r",
        "colab": {
          "base_uri": "https://localhost:8080/"
        },
        "outputId": "14248e82-5941-40c4-bc09-b260015a895c"
      },
      "execution_count": null,
      "outputs": [
        {
          "output_type": "execute_result",
          "data": {
            "text/plain": [
              "array([[0.09083798],\n",
              "       [0.11053593],\n",
              "       [0.52980655],\n",
              "       [0.71623474],\n",
              "       [0.9873188 ],\n",
              "       [0.59958214],\n",
              "       [0.90011406],\n",
              "       [0.03077655],\n",
              "       [0.7952841 ],\n",
              "       [0.04165261]], dtype=float32)"
            ]
          },
          "metadata": {},
          "execution_count": 29
        }
      ]
    }
  ]
}